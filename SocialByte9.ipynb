{
 "cells": [
  {
   "cell_type": "code",
   "execution_count": null,
   "id": "31fd8465",
   "metadata": {},
   "outputs": [],
   "source": [
    "SELECT\n",
    "    b.title AS ProductName,\n",
    "    SUM(o.quantity) AS TotalQuantitySold\n",
    "FROM\n",
    "    books b\n",
    "JOIN\n",
    "    orders o ON b.book_id = o.book_id\n",
    "GROUP BY\n",
    "    b.book_id, b.title\n",
    "ORDER BY\n",
    "    TotalQuantitySold DESC\n",
    "LIMIT 3;\n"
   ]
  }
 ],
 "metadata": {
  "kernelspec": {
   "display_name": "Python 3 (ipykernel)",
   "language": "python",
   "name": "python3"
  },
  "language_info": {
   "codemirror_mode": {
    "name": "ipython",
    "version": 3
   },
   "file_extension": ".py",
   "mimetype": "text/x-python",
   "name": "python",
   "nbconvert_exporter": "python",
   "pygments_lexer": "ipython3",
   "version": "3.10.9"
  }
 },
 "nbformat": 4,
 "nbformat_minor": 5
}
